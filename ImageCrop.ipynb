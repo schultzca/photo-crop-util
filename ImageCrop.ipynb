{
 "cells": [
  {
   "cell_type": "code",
   "execution_count": 184,
   "metadata": {},
   "outputs": [],
   "source": [
    "import cv2\n",
    "import glob\n",
    "import numpy as np\n",
    "import matplotlib.pyplot as plt\n",
    "from ipywidgets import interact, IntSlider\n",
    "import pathlib\n",
    "from PIL import Image\n",
    "%matplotlib notebook"
   ]
  },
  {
   "cell_type": "code",
   "execution_count": 195,
   "metadata": {},
   "outputs": [],
   "source": [
    "def read_image(path):\n",
    "    return np.array(Image.open(path))\n",
    "\n",
    "def crop(img, bg_delta=5):\n",
    "    \n",
    "    # Convert image to grayscale\n",
    "    gray = cv2.cvtColor(img, cv2.COLOR_RGB2GRAY)\n",
    "    \n",
    "    img_width, img_height = gray.shape\n",
    "    \n",
    "    # Apply blur to image\n",
    "    blur = cv2.blur(gray, (7,7))\n",
    "    \n",
    "    # Sample top left corner\n",
    "    bg_sample = blur[0:100, 0:100]\n",
    "    bg_sample_mn = np.mean(bg_sample)\n",
    "    bg_sample_std = np.std(bg_sample)\n",
    "    \n",
    "    # Set background to zero\n",
    "    mask = blur > bg_sample_mn + bg_delta\n",
    "    \n",
    "    horizontal_lines = np.argwhere(np.sum(mask, axis=0) > 100)\n",
    "    vertical_lines = np.argwhere(np.sum(mask, axis=1) > 100)\n",
    "    top, bottom = min(horizontal_lines), max(horizontal_lines)\n",
    "    left, right = min(vertical_lines), max(vertical_lines)\n",
    "    \n",
    "    top, bottom, left, right = map(int, (top, bottom, left, right))\n",
    "        \n",
    "    return img[left:right, top:bottom, :]\n",
    "\n",
    "def save_image(array, filename):\n",
    "    image = Image.fromarray(array, 'RGB')\n",
    "    image.save(filename)\n",
    "    \n",
    "def process(path):\n",
    "    \n",
    "    # Convert path string to Path object\n",
    "    fp = pathlib.Path(path)\n",
    "    \n",
    "    # Read image file into numpy array\n",
    "    img = read_image(fp)\n",
    "    \n",
    "    # Apply cropping algorithm to image\n",
    "    img_crop = crop(img)\n",
    "    \n",
    "    # Save image crop to file\n",
    "    save_image(img_crop, f\"{fp.stem}.jpg\")\n",
    "\n",
    "    \n",
    "for path in glob.glob(\"images/*.tif\"):\n",
    "    process(path)"
   ]
  },
  {
   "cell_type": "code",
   "execution_count": 196,
   "metadata": {},
   "outputs": [
    {
     "data": {
      "application/vnd.jupyter.widget-view+json": {
       "model_id": "0d141a27aee94f9f96d58c93d46e3645",
       "version_major": 2,
       "version_minor": 0
      },
      "text/plain": [
       "interactive(children=(IntSlider(value=0, description='x', max=8), Output()), _dom_classes=('widget-interact',)…"
      ]
     },
     "metadata": {},
     "output_type": "display_data"
    }
   ],
   "source": [
    "images = [crop(read_image(path)) for path in glob.glob(\"images/*.tif\")]\n",
    "@interact(x=IntSlider(min=0, max=len(images)-1, step=1))\n",
    "def plot_image(x):\n",
    "    plt.imshow(images[x])"
   ]
  },
  {
   "cell_type": "code",
   "execution_count": null,
   "metadata": {},
   "outputs": [],
   "source": []
  },
  {
   "cell_type": "code",
   "execution_count": null,
   "metadata": {},
   "outputs": [],
   "source": []
  },
  {
   "cell_type": "code",
   "execution_count": null,
   "metadata": {},
   "outputs": [],
   "source": []
  }
 ],
 "metadata": {
  "kernelspec": {
   "display_name": "Python 3",
   "language": "python",
   "name": "python3"
  },
  "language_info": {
   "codemirror_mode": {
    "name": "ipython",
    "version": 3
   },
   "file_extension": ".py",
   "mimetype": "text/x-python",
   "name": "python",
   "nbconvert_exporter": "python",
   "pygments_lexer": "ipython3",
   "version": "3.8.0"
  }
 },
 "nbformat": 4,
 "nbformat_minor": 2
}
